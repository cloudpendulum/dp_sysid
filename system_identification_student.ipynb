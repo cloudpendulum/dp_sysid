{
 "cells": [
  {
   "cell_type": "markdown",
   "id": "039708f0-3d42-41dd-b80a-4587453b2d02",
   "metadata": {},
   "source": [
    "# Tutorial 2: System identification\n",
    "In this tutorial we will calibrate our double pendulum model for our model-based controllers. To do so, we will run a few experiments and use the data to approximate the physical properties of our robot.\n",
    "\n",
    "**Pre-requisites**\n",
    "\n",
    "Knowledge of the dynamics of the double pendulum, basic filters.\n",
    "\n",
    "**Goals**\n",
    "\n",
    "Obtaining a good estimation of the properties of the physical double pendulum.\n",
    "\n",
    "This notebook is organized as follows:\n",
    "\n",
    "    1. Introduction\n",
    "    2. Problem statement\n",
    "    3. Measurement\n",
    "    4. System identification\n",
    "\n",
    "Run the next cell to make sure you have all the necessary dependencies installed."
   ]
  },
  {
   "cell_type": "code",
   "execution_count": null,
   "id": "be481e88-f3b3-4c5a-9883-acf641c31b67",
   "metadata": {},
   "outputs": [],
   "source": [
    "!pip install -r requirements.txt"
   ]
  },
  {
   "cell_type": "code",
   "execution_count": null,
   "id": "54d66b67-1f4e-4a9f-993c-ebb535d6893e",
   "metadata": {},
   "outputs": [],
   "source": [
    "# imports\n",
    "import numpy as np\n",
    "import pandas as pd\n",
    "import os\n",
    "from datetime import datetime\n",
    "from double_pendulum.model.plant import DoublePendulumPlant\n",
    "from double_pendulum.simulation.simulation import Simulator\n",
    "from double_pendulum.utils.plotting import plot_timeseries\n",
    "from double_pendulum.system_identification.sys_id import (run_system_identification,\n",
    "                                                          run_system_identification_nl)\n",
    "from double_pendulum.utils.csv_trajectory import save_trajectory, concatenate_trajectories\n",
    "from double_pendulum.controller.gravity_compensation.gravity_compensation_controller import GravityCompensationController\n",
    "from double_pendulum.controller.pid.trajectory_pid_controller import TrajPIDController\n",
    "\n",
    "%matplotlib inline\n",
    "from IPython.display import HTML\n",
    "import matplotlib as mpl\n",
    "mpl.rcParams['animation.writer'] = \"pillow\"\n",
    "import matplotlib.pyplot as plt"
   ]
  },
  {
   "cell_type": "markdown",
   "id": "9f887bec-d4e3-49bf-8c21-4132e76ab43a",
   "metadata": {},
   "source": [
    "## 1. Introduction\n",
    "\n",
    "There are three main approaches to system identification:\n",
    "\n",
    "- Computer-Aided Design:\n",
    "\n",
    "Many CAD programs can quickly and accurately calculate the dimensions and inertial parameters of the parts that make up our robots. However, this method often does not take into account components like electronics or properties like motor inertia. Additionally, a real prototype may suffer from important deviations from the original design.\n",
    "\n",
    "- Measuring by hand:\n",
    "\n",
    "The advantage of this method is that the measurements are made on the real system, avoiding any deviation between design and reality. However, the process of weighing and measuring parts can take a long time, especially if disassembling is required. Additionally, the quality of the measurements is dependent on the tools available and the human factor. Unlike the previous and next options, this method only accurately provides masses and dimensions, leaving moments of inertia to be infered from these parameters.\n",
    "\n",
    "- Analyzing data from the real robot:\n",
    "\n",
    "This last method includes a wide variety of approaches. It consists in comparing data predicted by the model to the data measured by the robot during operation. In our case, this means comparing the predicted torque to the torque that is really being supplied to the robot and then adapting the model accordingly. This method can approxiamte many parameters of the robot's model, including friction in many cases."
   ]
  },
  {
   "cell_type": "markdown",
   "id": "fe0f7c70-fa31-4971-aa4b-5ee947e49520",
   "metadata": {},
   "source": [
    "Because some accurate measurements, like the dimensions of the double pendulum, are already available to us, we only need to identify the following parameters:\n",
    "\n",
    "- $I_1$: Moment of inertia of the first link.\n",
    "- $I_2$: Moment of inertia of the second link.\n",
    "- $b_1$: Shoulder viscous friction coefficient.\n",
    "- $b_2$: Elbow viscous friction coefficient.\n",
    "- $\\mu_1$: Coulomb friction on the shoulder.\n",
    "- $\\mu_2$: Coulomb friction on the elbow.\n",
    "- $m_1$: Mass of the first link.\n",
    "- $m_2$: Mass of the second link.\n",
    "- $r_2$: Distance from the elbow joint to the second link's center of mass\n",
    "\n",
    "<img src=\"double_pendulum_coords.png\" width=\"50%\" align=\"\" />\n"
   ]
  },
  {
   "cell_type": "markdown",
   "id": "8e2039d4-5d57-4a0c-9f81-5c9c952e2fbf",
   "metadata": {},
   "source": [
    "## 2. Problem formulation\n",
    "\n",
    "The parameters that we wish to quantify are related to the dynamics of the double pendulum. Of these, some are inertial (mass, location of the center of mass, and moment of inertia) and others are related to various types of friction. Before we can run our experiment, first we must assemble a **parameter vector**($\\mathbf{\\Phi}$). The parameter vector, when multiplied by the **regressor matrix**($\\mathbf{Y}$) obeys the following equality:\n",
    "\n",
    "$$Y(\\mathbf{q}, \\dot{\\mathbf{q}}, \\ddot{\\mathbf{q}}) \\mathbf{\\Phi}= \\mathbf{\\tau}\n",
    "$$\n",
    "\n",
    "The general parameter vector for the inertial parameters of a body in SE(3) is\n",
    "\n",
    "$$ \\mathbf{\\Phi}_i = \\left[ \\begin{array}{cccccccccc} m & r_x m & r_y m & r_z m & I_{xx} & I_{xy} & I_{xz} & I_{yy} & I_{yz} & I_{zz} \\end{array}\\right]^T$$\n",
    "\n",
    "Since the double pendulum moves in a 2D plane and we have reliable measurements for some parameters, the number of inertial parameters is significantly reduced. On top of the inertial parameters, we also include the friction parameters:\n",
    "\n",
    "$$ \\mathbf{\\Phi} = \\left[ \\begin{array}{cccccccccc} r_1 m_1 & I_1 & \\mu_1 & b_1 & r_2 m_2 & m_2 &I_2 & \\mu_2 & b_2 \\end{array}\\right]$$\n",
    "\n",
    "Next, we will have to rearrange the equations of motion to obtain the regressor matrix.\n",
    "\n",
    "$$ M(\\mathbf{q})\\ddot{\\mathbf{q}} + C(\\mathbf{q}, \\dot{\\mathbf{q}})\\dot{\\mathbf{q}} + G(\\mathbf{q}) +F(\\dot{\\mathbf{q}}) = \\mathbf{\\tau} $$\n",
    "\n",
    "We may do so by differentiating the equations with respect to their corresponding parameter:\n",
    "\n",
    "$$ \\mathbf{Y} = \\left[ \\begin{array}{cccc} \\frac{\\partial Q_1}{\\partial \\mathbf{\\Phi}_1} & \\frac{\\partial Q_1}{\\partial \\mathbf{\\Phi}_2} & \\dots & \\frac{\\partial Q_1}{\\partial \\mathbf{\\Phi}_m} \\\\ \\frac{\\partial Q_2}{\\partial \\mathbf{\\Phi}_1} & \\frac{\\partial Q_2}{\\partial \\mathbf{\\Phi}_2} & \\dots & \\frac{\\partial Q_2}{\\partial \\mathbf{\\Phi}_m} \\\\ \\vdots & \\vdots &\\ddots & \\vdots \\\\ \\frac{\\partial Q_n}{\\partial \\mathbf{\\Phi}_1} & \\frac{\\partial Q_n}{\\partial \\mathbf{\\Phi}_2} & \\dots & \\frac{\\partial Q_n}{\\partial \\mathbf{\\Phi}_m}\\end{array} \\right]$$\n",
    "\n",
    "Where $Q_i$ is the left hand side of the equation of motion for coordinate $i$ and $\\mathbf{\\Phi}_i$ is the $i$-th parameter in the parameter vector. Notice that $\\mathbf{Y}$ is not necessarily square. In fact, $\\mathbf{Y}$ is most often non-square.\n",
    "\n"
   ]
  },
  {
   "cell_type": "markdown",
   "id": "c128dac8-4d14-453e-97a6-17f6c2dd27b1",
   "metadata": {},
   "source": [
    "Just as a reminder these are the terms of the manipulator equation that describes the motion of the double pendulum. The mass matrix is given by (with $s_1 = \\sin(q_1), c_1 = \\cos(q_1), \\ldots$):\n",
    "$$\n",
    "  M =\n",
    "    \\left[ {\\begin{array}{cc}\n",
    "          I_1 + I_2 + l_1^2m_2 + 2l_1m_2r_2c_2 + g_r^2I_r + I_r &   I_2 + l_1m_2r_2c_2 \\\\\n",
    "          I_2 + l_1m_2r_2c_2 &   I_2 \\\\\n",
    "    \\end{array}} \\right]\n",
    "$$\n",
    "\n",
    "The Coriolis Matrix is:\n",
    "$$\n",
    "    C =\n",
    "    \\left[\\begin{matrix}\n",
    "    - 2 \\dot{q}_2 l_{1} m_{2} r_{2} s_2 & - \\dot{q}_2 l_{1} m_{2} r_{2} s_2\\\\\n",
    "    \\dot{q}_1 l_{1} m_{2} r_{2} s_2 &   0\n",
    "    \\end{matrix}\\right]\n",
    "$$\n",
    "\n",
    "and the gravity vector:\n",
    "$$\n",
    "    G =\n",
    "    \\left[ \\begin{matrix}\n",
    "    - g m_{1} r_{1} s_1 - g m_{2} \\left(l_{1}\n",
    "s_1 + r_{2} s_{1+2} \\right)\\\\\n",
    "    - g m_{2} r_{2} s_{1+2}\n",
    "    \\end{matrix} \\right]\n",
    "$$\n",
    "\n",
    "and the friction term:\n",
    "$$\n",
    "    F = \n",
    "    \\left[\\begin{matrix}\n",
    "    b \\dot{q}_1 + \\mu \\arctan(100 \\dot{q}_1)\\\\\n",
    "    b \\dot{q}_2 + \\mu \\arctan(100 \\dot{q}_2)\n",
    "    \\end{matrix}\\right]\n",
    "$$\n",
    "\n",
    "where\n",
    "\n",
    "$$ q = (q_1, q_2)^T, x = (q, \\dot{q})^T, \\tau = (\\tau_1, \\tau_2)^T $$"
   ]
  },
  {
   "cell_type": "markdown",
   "id": "f0797073-1602-402f-810b-f47b684bd376",
   "metadata": {},
   "source": [
    "The goal of the next few operations is to retrieve $\\mathbf{\\Phi}$ from the result of our experiment. One simple way of achieving this is to use a least squares approach. This means that we will need to solve the following problem:\n",
    "\n",
    "$$ \\min_{\\mathbf{\\Phi}} \\| \\mathbf{Y}(\\mathbf{q}, \\dot{\\mathbf{q}}, \\ddot{\\mathbf{q}}) \\mathbf{\\Phi} - \\tau \\|^2$$"
   ]
  },
  {
   "cell_type": "markdown",
   "id": "6af4a534-b69b-47e9-a79a-fb2fc32d0046",
   "metadata": {},
   "source": [
    "## 3. Measurement\n",
    "\n",
    "To get some experimental torque and state data, we will run a PID controller following a trajectory. Using a PID means we don't need to have any information about dynamics of the system to run this test.\n",
    "As a short reminder, this is the expression for the control law of a PID (Proportional-Integral-Derivative) controller:\n",
    "$$\n",
    "\\tau(t, x) = K_p \\bar{\\mathbf{x}}(t) + K_i \\int_0^t \\bar{\\mathbf{x}}(t') \\text{d}t' + K_d \\dot{\\bar{\\mathbf{x}}} \\\\\n",
    "$$\n",
    "\n",
    "where $K_p$, $K_i$, and $K_d$ are the proportional, integral, and derivative gain, respectively. $\\bar{\\mathbf{x}}$ is defined by the following expression:\n",
    "\n",
    "$$\n",
    "\\bar{\\mathbf{x}}(t) = \\mathbf{x}_{goal}(t) - \\mathbf{x}(t)\n",
    "$$\n",
    "\n",
    "Run the experiment. Running it generates a results file containing the torques that were supplied during the motion, as well as the measured joint positions, velocities, and accelerations. Notice that these are the variables that we need to compute the regressor matrix for at every instant.\n",
    "\n",
    "Run the next cell to set up a PID controller for the first experiment, Notice that we save the positions, velocities, and accelerations of the joints of the double pendulum. These are the variables needed to compute $\\mathbf{Y}$ at every instant."
   ]
  },
  {
   "cell_type": "code",
   "execution_count": null,
   "id": "920092bf-a23b-4499-9a7a-5119d67df9e6",
   "metadata": {},
   "outputs": [],
   "source": [
    "motors = [403, 379] # REPLACE WITH YOUR MOTOR IDS [SHOULDER, ELBOW]\n",
    "# Set up provisional plant\n",
    "\n",
    "dt=0.001\n",
    "tf=10\n",
    "torque_limit= [0.15, 0.15]\n",
    "# Plant Model Setup\n",
    "plant = DoublePendulumPlant(\n",
    "    mass=[0.131, 0.064],\n",
    "    length=[0.05, 0.05] ,\n",
    "    com=[0.046, 0.048],\n",
    "    gravity=9.81,\n",
    "    inertia=[0.000277196, 0.000147456],\n",
    "    damping=[0.002137, 0.0003603],\n",
    "    torque_limit=torque_limit,\n",
    ")\n",
    "sim = Simulator(plant=plant)\n",
    "\n",
    "# Trajectory Setup\n",
    "csv_path = \"data/trajectory-pos-50.csv\"\n",
    "\n",
    "data = pd.read_csv(csv_path)\n",
    "time_traj = np.asarray(data[\"time\"])\n",
    "pos1_traj = np.asarray(data[\"pos1\"])\n",
    "pos2_traj = np.asarray(data[\"pos2\"])\n",
    "vel1_traj = np.asarray(data[\"vel1\"])\n",
    "vel2_traj = np.asarray(data[\"vel2\"])\n",
    "acc1_traj = np.asarray(data[\"acc1\"])\n",
    "acc2_traj = np.asarray(data[\"acc2\"])\n",
    "\n",
    "T_des = time_traj\n",
    "X_des = np.asarray([pos1_traj, pos2_traj, vel1_traj, vel2_traj]).T\n",
    "ACC_des = np.asarray([acc1_traj, acc2_traj]).T\n",
    "\n",
    "# Controller parameters\n",
    "Kp = 0.14\n",
    "Ki = 0.0\n",
    "Kd = 0.002\n",
    "dt=0.003333\n",
    "tf=30\n",
    "trajPID_controller = TrajPIDController(csv_path=csv_path, dt=dt, torque_limit=torque_limit)\n",
    "trajPID_controller.set_parameters(Kp=Kp, Ki=Ki, Kd=Kd)\n",
    "sim.reset()\n",
    "sim.set_desired_traj(T_des, X_des)"
   ]
  },
  {
   "cell_type": "markdown",
   "id": "6f5a099f-c200-48fc-b955-415fc11b6ab3",
   "metadata": {},
   "source": [
    "You may optionally run the next cell to make sure your controller is properly set up."
   ]
  },
  {
   "cell_type": "code",
   "execution_count": null,
   "id": "f3e99ca5-1f0e-414e-b162-c37e0d0bda96",
   "metadata": {},
   "outputs": [],
   "source": [
    "# Simulation\n",
    "x0=[0.0,0,0,0]\n",
    "trajPID_controller.init()\n",
    "trajPID_controller.counter=0\n",
    "T, X, U, anim = sim.simulate_and_animate(\n",
    "    t0=0.0,\n",
    "    x0=x0,\n",
    "    tf=tf,\n",
    "    dt=dt,\n",
    "    controller=trajPID_controller,\n",
    "    integrator=\"runge_kutta\",\n",
    "    plot_inittraj=True,\n",
    ")\n",
    "\n",
    "html = HTML(anim.to_jshtml())\n",
    "display(html)\n",
    "plt.close()\n",
    "\n",
    "acc = np.diff(np.asarray(X).T[2:, :]).T / dt\n",
    "acc = np.insert(acc, 0, [0, 0], axis=0)\n",
    "\n",
    "plot_timeseries(\n",
    "    T,\n",
    "    X,\n",
    "    U,\n",
    "    acc,\n",
    "    plot_acc=True,\n",
    "    plot_energy=False,\n",
    "    pos_y_lines=[0.0, np.pi],\n",
    "    tau_y_lines=[-torque_limit[0], torque_limit[0]],\n",
    "    T_des=T_des,\n",
    "    X_des=X_des,\n",
    "    ACC_des=ACC_des,\n",
    ")"
   ]
  },
  {
   "cell_type": "markdown",
   "id": "7ea95bc8-6cc4-4f28-9680-78dd880e6359",
   "metadata": {},
   "source": [
    "Run the next cell to execute the experiment. The motion should be similar to that shown in the simulation. Be sure to not interfere with the pendulum. "
   ]
  },
  {
   "cell_type": "code",
   "execution_count": null,
   "id": "5f1df695-a32f-4aaa-9f5f-7b40a30f5c2d",
   "metadata": {},
   "outputs": [],
   "source": [
    "trajPID_controller.counter=0\n",
    "# Hardware Implementation\n",
    "trajPID_controller = TrajPIDController(csv_path=csv_path, dt=dt, torque_limit=torque_limit)\n",
    "trajPID_controller.set_parameters(Kp=Kp, Ki=Ki, Kd=Kd)\n",
    "T_exp, X_exp, U_exp, U_des_exp = sim.run_experiment(\n",
    "    tf=tf,\n",
    "    dt=dt,\n",
    "    controller=trajPID_controller,\n",
    "    experiment_type=\"DoublePendulum\",\n",
    "    motors = motors # [shoulder, elbow]\n",
    ")\n",
    "\n",
    "# Plotting\n",
    "plot_timeseries(\n",
    "    T=T_exp,\n",
    "    X=X_exp,\n",
    "    U=U_exp,\n",
    "    T_des=T_exp,\n",
    "    X_des=X_des,\n",
    "    U_des=U_des_exp,\n",
    "    pos_y_lines=[0.0, np.pi],\n",
    "    tau_y_lines=[-torque_limit[1], torque_limit[1]],\n",
    ")"
   ]
  },
  {
   "cell_type": "markdown",
   "id": "e1fb728e-4ad8-4ef4-82cc-b9a670363995",
   "metadata": {},
   "source": [
    "You will notice that there is considerable noise in the results, especially for the velocity and acceleration of the elbow joint. So before solving the lest squares problem, we need to clean up the data. This is a crucial step, since noise will likely have a big impact on the accuracy of our system identification. For this case, we will use a Butterworth filter. Run  the next cell to clean the data and plot the filtered velocities, accelerations, and torques."
   ]
  },
  {
   "cell_type": "code",
   "execution_count": null,
   "id": "1939d683-11e6-4aeb-900c-410fba3917ff",
   "metadata": {},
   "outputs": [],
   "source": [
    "# Get data files\n",
    "measured_csv_data = np.array([T_exp, np.asarray(X_exp).T[0], np.asarray(X_exp).T[1], np.asarray(X_exp).T[2], np.asarray(X_exp).T[3], np.asarray(U_exp).T[0],np.asarray(U_exp).T[1]]).T\n",
    "np.savetxt(\"data/sysid_modelbased_exp_data.csv\", measured_csv_data, delimiter = ',', header=\"time,pos_meas1,pos_meas2,vel_meas1,vel_meas2,tau_meas1,tau_meas2\", comments=\"\")"
   ]
  },
  {
   "cell_type": "markdown",
   "id": "0044ae62-9095-46e7-87ed-64c06dd0ea17",
   "metadata": {},
   "source": [
    "We can now solve the least squares problem. To do so, we use the data from the complete experiment by stacking regressor matrices as such:\n",
    "\n",
    "$$ \\min_{\\mathbf{\\Phi}} \\lVert \\left[ \\begin{array}{c} \\mathbf{Y}(\\mathbf{q}_0, \\dot{\\mathbf{q}}_0, \\ddot{\\mathbf{q}}_0) \\\\ \\mathbf{Y}(\\mathbf{q}_1, \\dot{\\mathbf{q}}_1, \\ddot{\\mathbf{q}}_1) \\\\ \\vdots \\\\ \\mathbf{Y}(\\mathbf{q}_N, \\dot{\\mathbf{q}}_N, \\ddot{\\mathbf{q}}_N) \\end{array} \\right] \\mathbf{\\Phi} - \\left[ \\begin{array}{c} \\tau_0 \\\\ \\tau_1 \\\\ \\vdots \\\\ \\tau_N \\end{array} \\right] \\rVert^2$$"
   ]
  },
  {
   "cell_type": "markdown",
   "id": "37474f57-98e1-4e73-8015-ba2b8c3ee2af",
   "metadata": {},
   "source": [
    "## 4. System Identification\n",
    "\n",
    "Before we can solve the least squares problem, we will need to process the experimental data to remove as much noise as possible, since it will contaminate our results otherwise."
   ]
  },
  {
   "cell_type": "code",
   "execution_count": null,
   "id": "2be50994-5105-4913-88a9-3bd711bce0ec",
   "metadata": {},
   "outputs": [],
   "source": [
    "#from double_pendulum.system_identification.sys_id import run_system_identification, run_system_identification_nl\n",
    "# saving\n",
    "from double_pendulum.system_identification.sys_id import run_system_identification, run_system_identification_nl\n",
    "timestamp = datetime.today().strftime(\"%Y%m%d-%H%M%S\")\n",
    "save_dir = os.path.join(\"data\", \"system_identification\", timestamp)\n",
    "os.makedirs(save_dir)"
   ]
  },
  {
   "cell_type": "code",
   "execution_count": null,
   "id": "20d66725-b6ac-44b1-b54f-ee9a19a99b95",
   "metadata": {},
   "outputs": [],
   "source": [
    "measured_data_csv=[\n",
    "    \"data/sysid_modelbased_exp_data.csv\",\n",
    "]\n",
    "T, X, U = concatenate_trajectories(measured_data_csv,\n",
    "                                   with_tau=True)\n",
    "full_csv_path = os.path.join(save_dir, \"full_trajectory.csv\")\n",
    "save_trajectory(full_csv_path, T, X, U)"
   ]
  },
  {
   "cell_type": "markdown",
   "id": "06a63e89-152d-4350-b440-4c1b02db86eb",
   "metadata": {},
   "source": [
    "In the next cell, we provide some information that we know about our system. The most important are:\n",
    "- Gravity ($g$): 9.81m/s$^2$\n",
    "- Distance between joints of the double pendulum ($l_1$): 0.05 m\n",
    "- Motor inertia ($I_r$): 6.1e-06 kg/m$^2$"
   ]
  },
  {
   "cell_type": "code",
   "execution_count": null,
   "id": "b9362279-0fdf-45fa-a2d5-9ddcf8053d51",
   "metadata": {},
   "outputs": [],
   "source": [
    "# fixed model parameters (will not be fitted)\n",
    "fixed_mpar = {\"g\": 9.81,\n",
    "              \"gr\": 1,\n",
    "              \"l1\": 0.05,\n",
    "              \"l2\": 0.05,\n",
    "              \"Ir\": 61e-06\n",
    "             }"
   ]
  },
  {
   "cell_type": "markdown",
   "id": "c6cb2afc-dfa7-4a79-8290-33347e191834",
   "metadata": {},
   "source": [
    "### Think-Pair-Share\n",
    "\n",
    "Next, we define the parameter vector and the initial guess for the least squares problem. Pick initial the initial guess and bounds for each of the unknown properties of the system. Lastly, use the inital guesses of the unknowns to fill out the initial guess of $\\mathbf{\\Phi}$."
   ]
  },
  {
   "cell_type": "code",
   "execution_count": null,
   "id": "8cc588fe-63d3-445a-aa45-27d77ee615ff",
   "metadata": {},
   "outputs": [],
   "source": [
    "variable_mpar = [\"m1r1\", \"I1\", \"cf1\", \"b1\",\n",
    "                 \"m2r2\", \"m2\", \"I2\", \"cf2\", \"b2\"]\n",
    "\n",
    "## Your code here!\n",
    "\n",
    "m1 = 0.0\n",
    "m2 = 0.0\n",
    "I1 = 0.0\n",
    "I2 = 0.0\n",
    "r1=0.0\n",
    "r2=0.0\n",
    "b1=0.0\n",
    "b2=0.0\n",
    "cf1=0.0\n",
    "cf2=0.0\n",
    "\n",
    "bounds = np.array([[0.0, 0.0],      # r1*m1\n",
    "                   [0.0, 0.0],       # I1\n",
    "                   [0.0, 0.0],       # cf1\n",
    "                   [0.0, 0.0],       # b1\n",
    "                   [0.0, 0.0],       # r2*m2\n",
    "                   [0.0, 0.0],       # m2\n",
    "                   [0.0, 0.0],       # I2\n",
    "                   [0.0, 0.0],       # cf2\n",
    "                   [0.0, 0.0]        # b2\n",
    "                  ]).T\n",
    "\n",
    "mp0 = [0.0, 0.0, 0.0, 0.0, 0.0, 0.0, 0.0, 0.0, 0.0]\n",
    "##"
   ]
  },
  {
   "cell_type": "markdown",
   "id": "55f3a384-1c72-4e80-83e8-b494b23ca24d",
   "metadata": {},
   "source": [
    "Lastly, execute the next cell to filter the data and solve the least squares problem."
   ]
  },
  {
   "cell_type": "code",
   "execution_count": null,
   "id": "ce8e99c8-4048-402c-8f24-6be7ba93d789",
   "metadata": {},
   "outputs": [],
   "source": [
    "mpar_opt, mpar = run_system_identification(\n",
    "        measured_data_csv=measured_data_csv,\n",
    "        fixed_mpar=fixed_mpar,\n",
    "        variable_mpar=variable_mpar,\n",
    "        mp0=mp0,\n",
    "        bounds=bounds,\n",
    "        optimization_method=\"least-squares\",\n",
    "        save_dir=save_dir,\n",
    "        num_proc=32,\n",
    "        rescale=True,\n",
    "        maxfevals=100000,\n",
    "        filt=\"butterworth\")\n",
    "\n",
    "print(mpar)\n",
    "\n",
    "mpar.save_dict(os.path.join(save_dir, \"model_parameters.yml\"))"
   ]
  },
  {
   "cell_type": "markdown",
   "id": "68aa007b-d52e-4038-868e-7a125a50449d",
   "metadata": {},
   "source": [
    "### Think-Pair-Share\n",
    "\n",
    "Analyze the results. Is the difference between the torque predicted by the model and filtered measured torque reasonable? If not, select new bounds and initial guess for the parameters and repeat the measurement and system identification.\n",
    "\n",
    "To test see if the results are accurate, run an experiment with the gravity compensation controller. The next cell creates a new plant with the parameters obtained through system identification and a gravity compensation controller."
   ]
  },
  {
   "cell_type": "code",
   "execution_count": null,
   "id": "c8bc2d15-4d4d-4896-91b8-ba790ec557e6",
   "metadata": {},
   "outputs": [],
   "source": [
    "\n",
    "plant_newparams = DoublePendulumPlant(\n",
    "    mass=mpar.m,\n",
    "    length=mpar.l,\n",
    "    com=mpar.r,\n",
    "    gravity=mpar.g,\n",
    "    inertia=mpar.I,\n",
    "    damping=mpar.b,\n",
    "    torque_limit=mpar.tl,\n",
    "    coulomb_fric=mpar.cf\n",
    ")\n",
    "\n",
    "sim_newparams = Simulator(plant=plant_newparams)\n",
    "\n",
    "gravcomp_controller = GravityCompensationController(\n",
    "    mass=mpar.m,\n",
    "    length=mpar.l,\n",
    "    com=mpar.r,\n",
    "    damping=mpar.b,\n",
    "    torque_limit=mpar.tl,\n",
    "    coulomb_fric=mpar.cf,\n",
    "    gravity=mpar.g,\n",
    "    inertia=mpar.I\n",
    ")"
   ]
  },
  {
   "cell_type": "markdown",
   "id": "c4597af6-de7b-470d-84b2-f9b82d752a2c",
   "metadata": {},
   "source": [
    "Run the next cell to start the experiment. Try moving around the pendulum, it should hold its position. If the experiment fails, restart the kernel and run the notebook again; this time, changing the initial guess for the parameters."
   ]
  },
  {
   "cell_type": "code",
   "execution_count": null,
   "id": "406d44ac-c6b0-4915-bb4d-e0c6be9c6fae",
   "metadata": {},
   "outputs": [],
   "source": [
    "T_exp, X_exp, U_exp, U_des_exp = sim_newparams.run_experiment(\n",
    "    tf=10,\n",
    "    dt=0.002,\n",
    "    controller=gravcomp_controller,\n",
    "    experiment_type=\"DoublePendulum\",\n",
    "    motors = motors # [shoulder, elbow]\n",
    ")"
   ]
  },
  {
   "cell_type": "code",
   "execution_count": null,
   "id": "8648baae-6168-46fa-b298-b3685e598123",
   "metadata": {},
   "outputs": [],
   "source": []
  }
 ],
 "metadata": {
  "kernelspec": {
   "display_name": "Python 3 (ipykernel)",
   "language": "python",
   "name": "python3"
  },
  "language_info": {
   "codemirror_mode": {
    "name": "ipython",
    "version": 3
   },
   "file_extension": ".py",
   "mimetype": "text/x-python",
   "name": "python",
   "nbconvert_exporter": "python",
   "pygments_lexer": "ipython3",
   "version": "3.12.7"
  }
 },
 "nbformat": 4,
 "nbformat_minor": 5
}
